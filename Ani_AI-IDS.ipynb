{
 "cells": [
  {
   "cell_type": "code",
   "execution_count": 24,
   "id": "9980ca74-9831-452a-912e-4c1fb8c02bfd",
   "metadata": {},
   "outputs": [],
   "source": [
    "import pandas as pd\n",
    "from sklearn.model_selection import train_test_split\n",
    "from sklearn.preprocessing import StandardScaler\n",
    "from sklearn.decomposition import PCA\n",
    "import matplotlib.pyplot as plt\n",
    "from sklearn.ensemble import IsolationForest\n",
    "from sklearn.linear_model import LogisticRegression\n",
    "from sklearn.linear_model import Perceptron\n",
    "from sklearn.ensemble import RandomForestClassifier\n",
    "from sklearn.neural_network import MLPClassifier\n",
    "from sklearn.metrics import accuracy_score, recall_score, precision_score, f1_score\n",
    "\n",
    "file1 = r\"C:\\Users\\mnkan\\Downloads\\Backdoor_Malware.pcap.csv\"\n",
    "file2 = r\"C:\\Users\\mnkan\\Downloads\\Backdoor_Malware 2.pcap.csv\"\n",
    "file3 = r\"C:\\Users\\mnkan\\Downloads\\Labeled_Backdoor_Malware.csv\""
   ]
  },
  {
   "cell_type": "markdown",
   "id": "ee1041e2-3187-482b-84a7-de6dc76b9a1a",
   "metadata": {},
   "source": [
    "## Loading the Dataset"
   ]
  },
  {
   "cell_type": "code",
   "execution_count": 25,
   "id": "9c01be97-0968-4e74-aa71-6540b450cd00",
   "metadata": {},
   "outputs": [
    {
     "name": "stdout",
     "output_type": "stream",
     "text": [
      "   Header_Length  Protocol Type  Time_To_Live        Rate  fin_flag_number  \\\n",
      "0           13.2             17         111.8   21.654112              0.0   \n",
      "1           11.2             17          63.5  134.621809              0.0   \n",
      "2           13.6             17          65.6  211.662495              0.0   \n",
      "3           24.8              6          84.4  155.707333              0.0   \n",
      "4           10.4             17         118.3  105.440687              0.0   \n",
      "\n",
      "   syn_flag_number  rst_flag_number  psh_flag_number  ack_flag_number  \\\n",
      "0              0.0              0.0              0.0              0.3   \n",
      "1              0.1              0.0              0.0              0.0   \n",
      "2              0.1              0.0              0.0              0.2   \n",
      "3              0.0              0.0              0.4              0.7   \n",
      "4              0.0              0.0              0.0              0.1   \n",
      "\n",
      "   ece_flag_number  ...  LLC  Tot sum  Min   Max    AVG         Std  Tot size  \\\n",
      "0              0.0  ...  0.9     2105   60  1392  210.5  415.549502     210.5   \n",
      "1              0.0  ...  1.0     4736   60  1392  473.6  632.696206     473.6   \n",
      "2              0.0  ...  1.0     3788   62  1392  378.8  508.763381     378.8   \n",
      "3              0.0  ...  1.0     2917   62   833  291.7  308.737951     291.7   \n",
      "4              0.0  ...  1.0     1163   62   230  116.3   75.052648     116.3   \n",
      "\n",
      "        IAT  Number       Variance  \n",
      "0  0.046181      10  172681.388889  \n",
      "1  0.008186      10  400304.488889  \n",
      "2  0.004735      10  258840.177778  \n",
      "3  0.006422      10   95319.122222  \n",
      "4  0.009484      10    5632.900000  \n",
      "\n",
      "[5 rows x 39 columns]\n"
     ]
    }
   ],
   "source": [
    "df1 = pd.read_csv(file1)\n",
    "print(df1.head())"
   ]
  },
  {
   "cell_type": "markdown",
   "id": "d882315b-3caf-454d-8d2e-73673ae609b0",
   "metadata": {},
   "source": [
    "## Handling Missing Values"
   ]
  },
  {
   "cell_type": "code",
   "execution_count": 26,
   "id": "3e7b1d46-a815-4c96-b67e-2ff10b6c1300",
   "metadata": {},
   "outputs": [
    {
     "name": "stdout",
     "output_type": "stream",
     "text": [
      "Header_Length      0\n",
      "Protocol Type      0\n",
      "Time_To_Live       0\n",
      "Rate               0\n",
      "fin_flag_number    0\n",
      "syn_flag_number    0\n",
      "rst_flag_number    0\n",
      "psh_flag_number    0\n",
      "ack_flag_number    0\n",
      "ece_flag_number    0\n",
      "cwr_flag_number    0\n",
      "ack_count          0\n",
      "syn_count          0\n",
      "fin_count          0\n",
      "rst_count          0\n",
      "HTTP               0\n",
      "HTTPS              0\n",
      "DNS                0\n",
      "Telnet             0\n",
      "SMTP               0\n",
      "SSH                0\n",
      "IRC                0\n",
      "TCP                0\n",
      "UDP                0\n",
      "DHCP               0\n",
      "ARP                0\n",
      "ICMP               0\n",
      "IGMP               0\n",
      "IPv                0\n",
      "LLC                0\n",
      "Tot sum            0\n",
      "Min                0\n",
      "Max                0\n",
      "AVG                0\n",
      "Std                0\n",
      "Tot size           0\n",
      "IAT                0\n",
      "Number             0\n",
      "Variance           0\n",
      "dtype: int64\n"
     ]
    }
   ],
   "source": [
    "# Check for missing values\n",
    "print(df1.isnull().sum())\n",
    "\n",
    "# Option 1: Drop rows with missing values\n",
    "df1 = df1.dropna()\n",
    "\n",
    "# Option 2: Fill missing values with the column's mean (for numerical data)\n",
    "df1.fillna(df1.mean(), inplace=True)"
   ]
  },
  {
   "cell_type": "markdown",
   "id": "94b08026-2650-42bb-b5ae-d7d59294db13",
   "metadata": {},
   "source": [
    "## Removing columns which has zeroes"
   ]
  },
  {
   "cell_type": "code",
   "execution_count": 27,
   "id": "17487532-ce31-471f-95ec-b21dc69eb724",
   "metadata": {},
   "outputs": [
    {
     "name": "stdout",
     "output_type": "stream",
     "text": [
      "      Header_Length  Protocol Type  Time_To_Live        Rate  fin_flag_number  \\\n",
      "0              13.2             17        111.80   21.654112            0.000   \n",
      "1              11.2             17         63.50  134.621809            0.000   \n",
      "2              13.6             17         65.60  211.662495            0.000   \n",
      "3              24.8              6         84.40  155.707333            0.000   \n",
      "4              10.4             17        118.30  105.440687            0.000   \n",
      "...             ...            ...           ...         ...              ...   \n",
      "3213           14.4             17        130.20   32.324049            0.000   \n",
      "3214           24.0              6        106.40   53.370862            0.000   \n",
      "3215           26.0              6         83.10   59.725034            0.000   \n",
      "3216           24.4              6         57.60   73.735374            0.000   \n",
      "3217           23.5              6        103.75   27.576507            0.125   \n",
      "\n",
      "      syn_flag_number  rst_flag_number  psh_flag_number  ack_flag_number  \\\n",
      "0                 0.0              0.0            0.000             0.30   \n",
      "1                 0.1              0.0            0.000             0.00   \n",
      "2                 0.1              0.0            0.000             0.20   \n",
      "3                 0.0              0.0            0.400             0.70   \n",
      "4                 0.0              0.0            0.000             0.10   \n",
      "...               ...              ...              ...              ...   \n",
      "3213              0.0              0.0            0.200             0.30   \n",
      "3214              0.0              0.0            0.300             0.70   \n",
      "3215              0.1              0.0            0.500             0.70   \n",
      "3216              0.0              0.0            0.200             0.80   \n",
      "3217              0.0              0.0            0.125             0.75   \n",
      "\n",
      "      ack_count  ...    LLC  Tot sum  Min   Max      AVG         Std  \\\n",
      "0             3  ...  0.900     2105   60  1392  210.500  415.549502   \n",
      "1             0  ...  1.000     4736   60  1392  473.600  632.696206   \n",
      "2             2  ...  1.000     3788   62  1392  378.800  508.763381   \n",
      "3             7  ...  1.000     2917   62   833  291.700  308.737951   \n",
      "4             1  ...  1.000     1163   62   230  116.300   75.052648   \n",
      "...         ...  ...    ...      ...  ...   ...      ...         ...   \n",
      "3213          3  ...  1.000     1084   66   214  108.400   48.035172   \n",
      "3214          7  ...  1.000     1198   66   214  119.800   59.115330   \n",
      "3215          7  ...  1.000     1413   66   583  141.300  157.624765   \n",
      "3216          8  ...  0.900     1380   60   640  138.000  180.926013   \n",
      "3217          6  ...  0.875      695   60   214   86.875   52.713342   \n",
      "\n",
      "      Tot size       IAT  Number       Variance  \n",
      "0      210.500  0.046181      10  172681.388889  \n",
      "1      473.600  0.008186      10  400304.488889  \n",
      "2      378.800  0.004735      10  258840.177778  \n",
      "3      291.700  0.006422      10   95319.122222  \n",
      "4      116.300  0.009484      10    5632.900000  \n",
      "...        ...       ...     ...            ...  \n",
      "3213   108.400  0.031185      10    2307.377778  \n",
      "3214   119.800  0.019724      10    3494.622222  \n",
      "3215   141.300  0.017924      10   24845.566667  \n",
      "3216   138.000  0.013754      10   32734.222222  \n",
      "3217    86.875  0.039195       8    2778.696429  \n",
      "\n",
      "[3218 rows x 34 columns]\n"
     ]
    }
   ],
   "source": [
    "# Identify columns with all zeros\n",
    "cols_to_drop = df1.columns[df1.eq(0).all()]\n",
    "\n",
    "# Drop the identified columns\n",
    "df1 = df1.drop(cols_to_drop, axis=1)\n",
    "\n",
    "print(df1)"
   ]
  },
  {
   "cell_type": "markdown",
   "id": "93786b0f-9625-42f9-ac24-fc62087d6513",
   "metadata": {},
   "source": [
    "## Data Scaling with MinMaxScaler and StandardScaler"
   ]
  },
  {
   "cell_type": "code",
   "execution_count": 28,
   "id": "ebb5d50c-9e65-40e4-8055-8c385a6d6cd5",
   "metadata": {},
   "outputs": [
    {
     "name": "stdout",
     "output_type": "stream",
     "text": [
      "Numeric features selected for scaling: Index(['Header_Length', 'Protocol Type', 'Time_To_Live', 'Rate',\n",
      "       'fin_flag_number', 'syn_flag_number', 'rst_flag_number',\n",
      "       'psh_flag_number', 'ack_flag_number', 'ack_count', 'syn_count',\n",
      "       'fin_count', 'rst_count', 'HTTP', 'HTTPS', 'DNS', 'IRC', 'TCP', 'UDP',\n",
      "       'DHCP', 'ARP', 'ICMP', 'IGMP', 'IPv', 'LLC', 'Tot sum', 'Min', 'Max',\n",
      "       'AVG', 'Std', 'Tot size', 'IAT', 'Number', 'Variance'],\n",
      "      dtype='object')\n",
      "Data after MinMax Scaling:\n",
      "   Header_Length  Protocol Type  Time_To_Live      Rate  fin_flag_number  \\\n",
      "0       0.302632       1.000000      0.357746  0.000018              0.0   \n",
      "1       0.236842       1.000000      0.130986  0.000109              0.0   \n",
      "2       0.315789       1.000000      0.140845  0.000172              0.0   \n",
      "3       0.684211       0.352941      0.229108  0.000126              0.0   \n",
      "4       0.210526       1.000000      0.388263  0.000085              0.0   \n",
      "\n",
      "   syn_flag_number  rst_flag_number  psh_flag_number  ack_flag_number  \\\n",
      "0             0.00              0.0         0.000000              0.3   \n",
      "1             0.25              0.0         0.000000              0.0   \n",
      "2             0.25              0.0         0.000000              0.2   \n",
      "3             0.00              0.0         0.444444              0.7   \n",
      "4             0.00              0.0         0.000000              0.1   \n",
      "\n",
      "   ack_count  ...       LLC   Tot sum       Min       Max       AVG       Std  \\\n",
      "0        0.3  ...  0.833333  0.030369  0.000000  0.057234  0.030369  0.054581   \n",
      "1        0.0  ...  1.000000  0.084538  0.000000  0.057234  0.084538  0.083102   \n",
      "2        0.2  ...  1.000000  0.065020  0.001395  0.057234  0.065020  0.066824   \n",
      "3        0.7  ...  1.000000  0.047087  0.001395  0.033106  0.047087  0.040552   \n",
      "4        0.1  ...  1.000000  0.010974  0.001395  0.007079  0.010974  0.009858   \n",
      "\n",
      "   Tot size       IAT  Number  Variance  \n",
      "0  0.030369  0.000481     1.0  0.002979  \n",
      "1  0.084538  0.000085     1.0  0.006906  \n",
      "2  0.065020  0.000049     1.0  0.004465  \n",
      "3  0.047087  0.000067     1.0  0.001644  \n",
      "4  0.010974  0.000099     1.0  0.000097  \n",
      "\n",
      "[5 rows x 34 columns]\n",
      "Data after Standard Scaling:\n",
      "   Header_Length  Protocol Type  Time_To_Live      Rate  fin_flag_number  \\\n",
      "0      -0.993208       1.581296      0.062453 -0.092652        -0.386076   \n",
      "1      -1.247307       1.581296     -0.995466 -0.089005        -0.386076   \n",
      "2      -0.942389       1.581296     -0.949470 -0.086518        -0.386076   \n",
      "3       0.480565      -0.594592     -0.537691 -0.088324        -0.386076   \n",
      "4      -1.348947       1.581296      0.204824 -0.089947        -0.386076   \n",
      "\n",
      "   syn_flag_number  rst_flag_number  psh_flag_number  ack_flag_number  \\\n",
      "0        -0.473395        -0.111048        -1.193393        -0.920526   \n",
      "1         1.193329        -0.111048        -1.193393        -1.895432   \n",
      "2         1.193329        -0.111048        -1.193393        -1.245495   \n",
      "3        -0.473395        -0.111048         1.208602         0.379349   \n",
      "4        -0.473395        -0.111048        -1.193393        -1.570463   \n",
      "\n",
      "   ack_count  ...       LLC   Tot sum       Min       Max       AVG       Std  \\\n",
      "0  -0.920416  ... -0.500508 -0.216034 -0.250264  0.459056 -0.216048  0.445691   \n",
      "1  -1.895366  ...  0.618960  0.374406 -0.250264  0.459056  0.374396  0.930682   \n",
      "2  -1.245399  ...  0.618960  0.161659 -0.244038  0.459056  0.161648  0.653881   \n",
      "3   0.379518  ...  0.618960 -0.033808 -0.244038  0.058781 -0.033820  0.207131   \n",
      "4  -1.570383  ...  0.618960 -0.427435 -0.244038 -0.373000 -0.427450 -0.314798   \n",
      "\n",
      "   Tot size       IAT    Number  Variance  \n",
      "0 -0.216048 -0.010008  0.017631 -0.046251  \n",
      "1  0.374396 -0.032076  0.017631  0.095175  \n",
      "2  0.161648 -0.034080  0.017631  0.007281  \n",
      "3 -0.033820 -0.033100  0.017631 -0.094317  \n",
      "4 -0.427450 -0.031322  0.017631 -0.150041  \n",
      "\n",
      "[5 rows x 34 columns]\n"
     ]
    }
   ],
   "source": [
    "#Load the dataset\n",
    "df2 = pd.read_csv(file2)\n",
    "\n",
    "# Selecting numeric columns for scaling (specify column names if needed)\n",
    "numeric_features = df2.select_dtypes(include=['float64', 'int64']).columns\n",
    "print(f\"Numeric features selected for scaling: {numeric_features}\")\n",
    "\n",
    "# Apply MinMaxScaler\n",
    "min_max_scaler = MinMaxScaler()\n",
    "df2_minmax_scaled = df2.copy()\n",
    "df2_minmax_scaled[numeric_features] = min_max_scaler.fit_transform(df2[numeric_features])\n",
    "\n",
    "# Display the result of MinMaxScaler\n",
    "print(\"Data after MinMax Scaling:\")\n",
    "print(df2_minmax_scaled.head())\n",
    "\n",
    "# Apply StandardScaler\n",
    "standard_scaler = StandardScaler()\n",
    "df2_standard_scaled = df2.copy()\n",
    "df2_standard_scaled[numeric_features] = standard_scaler.fit_transform(df2[numeric_features])\n",
    "\n",
    "# Display the result of StandardScaler\n",
    "print(\"Data after Standard Scaling:\")\n",
    "print(df2_standard_scaled.head())"
   ]
  },
  {
   "cell_type": "markdown",
   "id": "99b6fe35-882d-457f-ad98-c339f6f8fafb",
   "metadata": {},
   "source": [
    "## PCA Dimensionality Reduction and Explained Variance Analysis"
   ]
  },
  {
   "cell_type": "code",
   "execution_count": 29,
   "id": "72d91c14-f87d-4639-87fe-fc7cbdf1ded3",
   "metadata": {},
   "outputs": [
    {
     "name": "stdout",
     "output_type": "stream",
     "text": [
      "Explained Variance Ratio (10 components): [0.25497889 0.1180686  0.08098232 0.07791554 0.05873764 0.05521224\n",
      " 0.04643473 0.03516092 0.03086686 0.02958669]\n"
     ]
    },
    {
     "data": {
      "image/png": "[encoded data removed]",
      "text/plain": [
       "<Figure size 640x480 with 1 Axes>"
      ]
     },
     "metadata": {},
     "output_type": "display_data"
    }
   ],
   "source": [
    "pca_fixed = PCA(n_components=10)\n",
    "data_pca_fixed = pca_fixed.fit_transform(df2_standard_scaled)  # Using the standardized data\n",
    "\n",
    "# Print explained variance ratio for the fixed number of components\n",
    "print(\"Explained Variance Ratio (10 components):\", pca_fixed.explained_variance_ratio_)\n",
    "\n",
    "# Apply PCA without specifying the number of components to find optimal number\n",
    "pca = PCA()\n",
    "pca.fit(df2_standard_scaled)\n",
    "\n",
    "# Get the explained variance ratio\n",
    "explained_variance_ratio = pca.explained_variance_ratio_\n",
    "\n",
    "# Plot the explained variance ratio   \n",
    "\n",
    "plt.plot(range(1, len(explained_variance_ratio) + 1), explained_variance_ratio, marker='o')\n",
    "plt.xlabel('Number of Components')\n",
    "plt.ylabel('Explained Variance Ratio')\n",
    "plt.title('Explained Variance Ratio by Principal Component')\n",
    "plt.show()"
   ]
  },
  {
   "cell_type": "markdown",
   "id": "46c140b9-5768-421e-84ed-d4efe7b96112",
   "metadata": {},
   "source": [
    "## Splitting the Dataset into Training and Testing Sets"
   ]
  },
  {
   "cell_type": "code",
   "execution_count": 30,
   "id": "db87f731-1a1c-4d92-8eca-04d470e8ee22",
   "metadata": {},
   "outputs": [
    {
     "name": "stdout",
     "output_type": "stream",
     "text": [
      "Distribution of Labels:\n",
      "Labels\n",
      "0    3057\n",
      "1     161\n",
      "Name: count, dtype: int64\n"
     ]
    }
   ],
   "source": [
    "# Apply Isolation Forest for anomaly detection\n",
    "iso_forest = IsolationForest(contamination=0.05, random_state=42)  # Assuming 5% contamination\n",
    "labels = iso_forest.fit_predict(df2_standard_scaled)\n",
    "\n",
    "# Add the Labels column to the dataset\n",
    "df2['Labels'] = labels\n",
    "df2['Labels'] = df2['Labels'].apply(lambda x: 1 if x == -1 else 0)  # 1: Malicious, 0: Normal\n",
    "\n",
    "# Analyze the target column\n",
    "target_distribution = df2['Labels'].value_counts()\n",
    "print(\"Distribution of Labels:\")\n",
    "print(target_distribution)"
   ]
  },
  {
   "cell_type": "markdown",
   "id": "30153193-523f-4d41-b42e-2d632ccf4317",
   "metadata": {},
   "source": [
    "## Anomaly Detection Using Isolation Forest"
   ]
  },
  {
   "cell_type": "code",
   "execution_count": 31,
   "id": "7d100ad8-5a2c-4c9e-ba24-e284980be366",
   "metadata": {},
   "outputs": [
    {
     "name": "stdout",
     "output_type": "stream",
     "text": [
      "X_train shape: (2574, 34)\n",
      "X_test shape: (644, 34)\n",
      "y_train distribution:\n",
      " Labels\n",
      "0         2445\n",
      "1          129\n",
      "Name: count, dtype: int64\n",
      "y_test distribution:\n",
      " Labels\n",
      "0         612\n",
      "1          32\n",
      "Name: count, dtype: int64\n"
     ]
    }
   ],
   "source": [
    "# Load the split datasets\n",
    "X_train = pd.read_csv(\"C:\\\\Users\\\\mnkan\\\\Downloads\\\\X_train.csv\")\n",
    "X_test = pd.read_csv(\"C:\\\\Users\\\\mnkan\\\\Downloads\\\\X_test.csv\")\n",
    "y_train = pd.read_csv(\"C:\\\\Users\\\\mnkan\\\\Downloads\\\\y_train.csv\")\n",
    "y_test = pd.read_csv(\"C:\\\\Users\\\\mnkan\\\\Downloads\\\\y_test.csv\")\n",
    "\n",
    "# Check the data\n",
    "print(\"X_train shape:\", X_train.shape)\n",
    "print(\"X_test shape:\", X_test.shape)\n",
    "print(\"y_train distribution:\\n\", y_train.value_counts())\n",
    "print(\"y_test distribution:\\n\", y_test.value_counts())"
   ]
  },
  {
   "cell_type": "markdown",
   "id": "449e20d1-f918-46f0-a209-6b13aea62443",
   "metadata": {},
   "source": [
    "## Splitting the Dataset"
   ]
  },
  {
   "cell_type": "code",
   "execution_count": 32,
   "id": "14c2ef82-977e-44ff-8065-7db8ea95b608",
   "metadata": {},
   "outputs": [
    {
     "name": "stdout",
     "output_type": "stream",
     "text": [
      "Data split and saved successfully!\n",
      "Shapes of datasets:\n",
      "X_train: (2574, 34) X_test: (644, 34)\n",
      "y_train distribution:\n",
      " Labels\n",
      "0    2445\n",
      "1     129\n",
      "Name: count, dtype: int64\n",
      "y_test distribution:\n",
      " Labels\n",
      "0    612\n",
      "1     32\n",
      "Name: count, dtype: int64\n"
     ]
    }
   ],
   "source": [
    "#load the dataset\n",
    "df3 = pd.read_csv(file3)\n",
    "\n",
    "# Add the Labels column to classify as malicious (1) or normal (0)\n",
    "df3['Labels'] = labels\n",
    "df3['Labels'] = df3['Labels'].apply(lambda x: 1 if x == -1 else 0)  # -1 is anomaly, so 1 for malicious\n",
    "\n",
    "# Split the dataset into features (X) and target (y)\n",
    "X = df3.drop(columns=['Labels'])  # Features (all columns except 'Labels')\n",
    "y = df3['Labels']  # Target column\n",
    "\n",
    "# Split into training and testing sets (80% train, 20% test)\n",
    "X_train, X_test, y_train, y_test = train_test_split(X, y, test_size=0.2, random_state=42, stratify=y)\n",
    "\n",
    "# Print confirmation and dataset shapes\n",
    "print(\"Data split and saved successfully!\")\n",
    "print(\"Shapes of datasets:\")\n",
    "print(\"X_train:\", X_train.shape, \"X_test:\", X_test.shape)\n",
    "print(\"y_train distribution:\\n\", y_train.value_counts())\n",
    "print(\"y_test distribution:\\n\", y_test.value_counts())"
   ]
  },
  {
   "cell_type": "markdown",
   "id": "af33fbb3-59d4-4437-86d2-1526cf8035d6",
   "metadata": {},
   "source": [
    "## Preparing Data for Model Training"
   ]
  },
  {
   "cell_type": "code",
   "execution_count": 33,
   "id": "95c4194c-ea36-45f2-a536-13ac09d73f65",
   "metadata": {},
   "outputs": [
    {
     "name": "stdout",
     "output_type": "stream",
     "text": [
      "X_train shape: (2574, 34)\n",
      "y_train shape: (2574,)\n",
      "X_test shape: (644, 34)\n",
      "y_test shape: (644,)\n"
     ]
    }
   ],
   "source": [
    "# Separate features and labels\n",
    "X = df3.drop('Labels', axis=1)\n",
    "y = df3['Labels']\n",
    "\n",
    "# Split data into training and testing sets\n",
    "X_train, X_test, y_train, y_test = train_test_split(X, y, test_size=0.2, random_state=42)\n",
    "\n",
    "# Scale the features\n",
    "X_train = standard_scaler.fit_transform(X_train)\n",
    "X_test = standard_scaler.transform(X_test)\n",
    "\n",
    "# Print the shapes of the training and testing sets\n",
    "print(\"X_train shape:\", X_train.shape)\n",
    "print(\"y_train shape:\", y_train.shape)\n",
    "print(\"X_test shape:\", X_test.shape)\n",
    "print(\"y_test shape:\", y_test.shape)"
   ]
  },
  {
   "cell_type": "markdown",
   "id": "5708885f-4f5b-4297-9a77-ca7238f8b050",
   "metadata": {},
   "source": [
    "## Model Training and Evaluation for Backdoor Malware Dataset\n",
    "##### This code trains and evaluates multiple machine learning models on the Backdoor Malware dataset,\n",
    "##### including Logistic Regression, Perceptron, Random Forest, and Feedforward Neural Network (MLP).\n",
    "##### The models are evaluated based on Accuracy, Recall, Precision, and F1-score."
   ]
  },
  {
   "cell_type": "code",
   "execution_count": 37,
   "id": "09160704-3ec6-490d-b062-e137b10d1556",
   "metadata": {},
   "outputs": [
    {
     "name": "stdout",
     "output_type": "stream",
     "text": [
      "Results of 4 models on the backdoor malware dataset\n",
      "\n",
      "Random Forest       : Accuracy = 0.9767, Recall = 0.6923, Precision = 0.7200, F1 = 0.7059\n",
      "Feedforward NN      : Accuracy = 0.8913, Recall = 0.3846, Precision = 0.1562, F1 = 0.2222\n",
      "Perceptron          : Accuracy = 0.9550, Recall = 0.2692, Precision = 0.4118, F1 = 0.3256\n",
      "Logistic Regression : Accuracy = 0.9705, Recall = 0.3846, Precision = 0.7692, F1 = 0.5128\n"
     ]
    }
   ],
   "source": [
    "# Split data into training and testing sets\n",
    "X_train, X_test, y_train, y_test = train_test_split(X, y, test_size=0.2, random_state=42)\n",
    "\n",
    "models = {\n",
    "    (\"Logistic Regression\", LogisticRegression(random_state=42, max_iter=1000, solver='liblinear', C=0.1)),\n",
    "    (\"Perceptron\", Perceptron(random_state=42, max_iter=300)),\n",
    "    (\"Random Forest\", RandomForestClassifier(random_state=42)),\n",
    "    (\"Feedforward NN\", MLPClassifier(random_state=42, max_iter=300))\n",
    "}\n",
    "\n",
    "results = []\n",
    "for name, model in models:\n",
    "    model.fit(X_train, y_train)\n",
    "    y_pred = model.predict(X_test)\n",
    "    accuracy = accuracy_score(y_test, y_pred)\n",
    "    recall = recall_score(y_test, y_pred)\n",
    "    precision = precision_score(y_test, y_pred)\n",
    "    f1 = f1_score(y_test, y_pred)\n",
    "    results.append((name, accuracy, recall, precision, f1))\n",
    "\n",
    "\n",
    "# Print the results\n",
    "print(\"Results of 4 models on the backdoor malware dataset\\n\")\n",
    "for row in results:\n",
    "    print(f'{row[0]:<20}: Accuracy = {row[1]:.4f}, Recall = {row[2]:.4f}, Precision = {row[3]:.4f}, F1 = {row[4]:.4f}')"
   ]
  },
  {
   "cell_type": "code",
   "execution_count": null,
   "id": "fa7aae3f-d24a-424c-8e43-fa32596f1a04",
   "metadata": {},
   "outputs": [],
   "source": []
  }
 ],
 "metadata": {
  "kernelspec": {
   "display_name": "Python 3 (ipykernel)",
   "language": "python",
   "name": "python3"
  },
  "language_info": {
   "codemirror_mode": {
    "name": "ipython",
    "version": 3
   },
   "file_extension": ".py",
   "mimetype": "text/x-python",
   "name": "python",
   "nbconvert_exporter": "python",
   "pygments_lexer": "ipython3",
   "version": "3.10.11"
  }
 },
 "nbformat": 4,
 "nbformat_minor": 5
}
